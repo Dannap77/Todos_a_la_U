{
  "nbformat": 4,
  "nbformat_minor": 0,
  "metadata": {
    "colab": {
      "provenance": []
    },
    "kernelspec": {
      "name": "python3",
      "display_name": "Python 3"
    },
    "language_info": {
      "name": "python"
    }
  },
  "cells": [
    {
      "cell_type": "markdown",
      "source": [
        "##***Actividad Dataframes con pandas*** 🐼\n"
      ],
      "metadata": {
        "id": "anIz1oBZ9nSj"
      }
    },
    {
      "cell_type": "code",
      "source": [
        "#importando\n",
        "import pandas as pd\n",
        "import numpy as np\n",
        "import matplotlib.pyplot as plt\n",
        "from sodapy import Socrata\n",
        "import seaborn as sns"
      ],
      "metadata": {
        "id": "3LweG3Q198_E"
      },
      "execution_count": 111,
      "outputs": []
    },
    {
      "cell_type": "code",
      "source": [
        "#instalando la API\n",
        "!pip install sodapy"
      ],
      "metadata": {
        "id": "ZeXVmOQV-VD3"
      },
      "execution_count": null,
      "outputs": []
    },
    {
      "cell_type": "code",
      "source": [
        "#URL\n",
        "client = Socrata(\"www.datos.gov.co\", None)\n",
        "results = client.get(\"32sa-8pi3\")\n",
        "\n",
        "#Asignado al df\n",
        "df_dataset = pd.DataFrame.from_records(results)"
      ],
      "metadata": {
        "id": "yXtGJRyI-fDi"
      },
      "execution_count": null,
      "outputs": []
    },
    {
      "cell_type": "code",
      "source": [
        "#convertir la columna valor a tipo numerico\n",
        "df_dataset['valor'] = pd.to_numeric(df_dataset['valor'],errors='coerce')\n",
        "\n",
        "#calcular las medidas estadísticas\n",
        "media = df_dataset['valor'].mean()\n",
        "mediana = df_dataset['valor'].median()\n",
        "desviacion_estandar = df_dataset['valor'].std()\n",
        "maximo = df_dataset['valor'].max()\n",
        "minimo = df_dataset['valor'].min()\n",
        "rango = maximo - minimo\n",
        "\n",
        "#imprimir los resultados\n",
        "print(\"Media:\", media)\n",
        "print(\"Mediana:\", mediana)\n",
        "print(\"Desviación estándar:\", desviacion_estandar)\n",
        "print(\"Máximo:\", maximo)\n",
        "print(\"Mínimo:\", minimo)\n",
        "print(\"Rango:\", rango)\n"
      ],
      "metadata": {
        "colab": {
          "base_uri": "https://localhost:8080/"
        },
        "id": "vASOTqCb_VBY",
        "outputId": "82481345-e6bb-4693-b650-65c1218c2cb7"
      },
      "execution_count": null,
      "outputs": [
        {
          "output_type": "stream",
          "name": "stdout",
          "text": [
            "Media: 3042.3765099999996\n",
            "Mediana: 2972.525\n",
            "Desviación estándar: 730.6890057655628\n",
            "Máximo: 5061.21\n",
            "Mínimo: 1846.12\n",
            "Rango: 3215.09\n"
          ]
        }
      ]
    },
    {
      "cell_type": "code",
      "source": [
        "#Resumen de datos numericos\n",
        "df_dataset.describe()"
      ],
      "metadata": {
        "colab": {
          "base_uri": "https://localhost:8080/",
          "height": 300
        },
        "id": "7nqnIokRBvfT",
        "outputId": "0550935a-9171-443b-eef4-85918adcfc01"
      },
      "execution_count": null,
      "outputs": [
        {
          "output_type": "execute_result",
          "data": {
            "text/plain": [
              "             valor\n",
              "count  1000.000000\n",
              "mean   3042.376510\n",
              "std     730.689006\n",
              "min    1846.120000\n",
              "25%    2500.497500\n",
              "50%    2972.525000\n",
              "75%    3646.340000\n",
              "max    5061.210000"
            ],
            "text/html": [
              "\n",
              "\n",
              "  <div id=\"df-c397852c-f2df-45d6-8b50-4aaf6ed3fdf3\">\n",
              "    <div class=\"colab-df-container\">\n",
              "      <div>\n",
              "<style scoped>\n",
              "    .dataframe tbody tr th:only-of-type {\n",
              "        vertical-align: middle;\n",
              "    }\n",
              "\n",
              "    .dataframe tbody tr th {\n",
              "        vertical-align: top;\n",
              "    }\n",
              "\n",
              "    .dataframe thead th {\n",
              "        text-align: right;\n",
              "    }\n",
              "</style>\n",
              "<table border=\"1\" class=\"dataframe\">\n",
              "  <thead>\n",
              "    <tr style=\"text-align: right;\">\n",
              "      <th></th>\n",
              "      <th>valor</th>\n",
              "    </tr>\n",
              "  </thead>\n",
              "  <tbody>\n",
              "    <tr>\n",
              "      <th>count</th>\n",
              "      <td>1000.000000</td>\n",
              "    </tr>\n",
              "    <tr>\n",
              "      <th>mean</th>\n",
              "      <td>3042.376510</td>\n",
              "    </tr>\n",
              "    <tr>\n",
              "      <th>std</th>\n",
              "      <td>730.689006</td>\n",
              "    </tr>\n",
              "    <tr>\n",
              "      <th>min</th>\n",
              "      <td>1846.120000</td>\n",
              "    </tr>\n",
              "    <tr>\n",
              "      <th>25%</th>\n",
              "      <td>2500.497500</td>\n",
              "    </tr>\n",
              "    <tr>\n",
              "      <th>50%</th>\n",
              "      <td>2972.525000</td>\n",
              "    </tr>\n",
              "    <tr>\n",
              "      <th>75%</th>\n",
              "      <td>3646.340000</td>\n",
              "    </tr>\n",
              "    <tr>\n",
              "      <th>max</th>\n",
              "      <td>5061.210000</td>\n",
              "    </tr>\n",
              "  </tbody>\n",
              "</table>\n",
              "</div>\n",
              "      <button class=\"colab-df-convert\" onclick=\"convertToInteractive('df-c397852c-f2df-45d6-8b50-4aaf6ed3fdf3')\"\n",
              "              title=\"Convert this dataframe to an interactive table.\"\n",
              "              style=\"display:none;\">\n",
              "\n",
              "  <svg xmlns=\"http://www.w3.org/2000/svg\" height=\"24px\"viewBox=\"0 0 24 24\"\n",
              "       width=\"24px\">\n",
              "    <path d=\"M0 0h24v24H0V0z\" fill=\"none\"/>\n",
              "    <path d=\"M18.56 5.44l.94 2.06.94-2.06 2.06-.94-2.06-.94-.94-2.06-.94 2.06-2.06.94zm-11 1L8.5 8.5l.94-2.06 2.06-.94-2.06-.94L8.5 2.5l-.94 2.06-2.06.94zm10 10l.94 2.06.94-2.06 2.06-.94-2.06-.94-.94-2.06-.94 2.06-2.06.94z\"/><path d=\"M17.41 7.96l-1.37-1.37c-.4-.4-.92-.59-1.43-.59-.52 0-1.04.2-1.43.59L10.3 9.45l-7.72 7.72c-.78.78-.78 2.05 0 2.83L4 21.41c.39.39.9.59 1.41.59.51 0 1.02-.2 1.41-.59l7.78-7.78 2.81-2.81c.8-.78.8-2.07 0-2.86zM5.41 20L4 18.59l7.72-7.72 1.47 1.35L5.41 20z\"/>\n",
              "  </svg>\n",
              "      </button>\n",
              "\n",
              "\n",
              "\n",
              "    <div id=\"df-e6f29274-aaac-4784-81ae-2efdcbcb436a\">\n",
              "      <button class=\"colab-df-quickchart\" onclick=\"quickchart('df-e6f29274-aaac-4784-81ae-2efdcbcb436a')\"\n",
              "              title=\"Suggest charts.\"\n",
              "              style=\"display:none;\">\n",
              "\n",
              "<svg xmlns=\"http://www.w3.org/2000/svg\" height=\"24px\"viewBox=\"0 0 24 24\"\n",
              "     width=\"24px\">\n",
              "    <g>\n",
              "        <path d=\"M19 3H5c-1.1 0-2 .9-2 2v14c0 1.1.9 2 2 2h14c1.1 0 2-.9 2-2V5c0-1.1-.9-2-2-2zM9 17H7v-7h2v7zm4 0h-2V7h2v10zm4 0h-2v-4h2v4z\"/>\n",
              "    </g>\n",
              "</svg>\n",
              "      </button>\n",
              "    </div>\n",
              "\n",
              "<style>\n",
              "  .colab-df-quickchart {\n",
              "    background-color: #E8F0FE;\n",
              "    border: none;\n",
              "    border-radius: 50%;\n",
              "    cursor: pointer;\n",
              "    display: none;\n",
              "    fill: #1967D2;\n",
              "    height: 32px;\n",
              "    padding: 0 0 0 0;\n",
              "    width: 32px;\n",
              "  }\n",
              "\n",
              "  .colab-df-quickchart:hover {\n",
              "    background-color: #E2EBFA;\n",
              "    box-shadow: 0px 1px 2px rgba(60, 64, 67, 0.3), 0px 1px 3px 1px rgba(60, 64, 67, 0.15);\n",
              "    fill: #174EA6;\n",
              "  }\n",
              "\n",
              "  [theme=dark] .colab-df-quickchart {\n",
              "    background-color: #3B4455;\n",
              "    fill: #D2E3FC;\n",
              "  }\n",
              "\n",
              "  [theme=dark] .colab-df-quickchart:hover {\n",
              "    background-color: #434B5C;\n",
              "    box-shadow: 0px 1px 3px 1px rgba(0, 0, 0, 0.15);\n",
              "    filter: drop-shadow(0px 1px 2px rgba(0, 0, 0, 0.3));\n",
              "    fill: #FFFFFF;\n",
              "  }\n",
              "</style>\n",
              "\n",
              "    <script>\n",
              "      async function quickchart(key) {\n",
              "        const containerElement = document.querySelector('#' + key);\n",
              "        const charts = await google.colab.kernel.invokeFunction(\n",
              "            'suggestCharts', [key], {});\n",
              "      }\n",
              "    </script>\n",
              "\n",
              "      <script>\n",
              "\n",
              "function displayQuickchartButton(domScope) {\n",
              "  let quickchartButtonEl =\n",
              "    domScope.querySelector('#df-e6f29274-aaac-4784-81ae-2efdcbcb436a button.colab-df-quickchart');\n",
              "  quickchartButtonEl.style.display =\n",
              "    google.colab.kernel.accessAllowed ? 'block' : 'none';\n",
              "}\n",
              "\n",
              "        displayQuickchartButton(document);\n",
              "      </script>\n",
              "      <style>\n",
              "    .colab-df-container {\n",
              "      display:flex;\n",
              "      flex-wrap:wrap;\n",
              "      gap: 12px;\n",
              "    }\n",
              "\n",
              "    .colab-df-convert {\n",
              "      background-color: #E8F0FE;\n",
              "      border: none;\n",
              "      border-radius: 50%;\n",
              "      cursor: pointer;\n",
              "      display: none;\n",
              "      fill: #1967D2;\n",
              "      height: 32px;\n",
              "      padding: 0 0 0 0;\n",
              "      width: 32px;\n",
              "    }\n",
              "\n",
              "    .colab-df-convert:hover {\n",
              "      background-color: #E2EBFA;\n",
              "      box-shadow: 0px 1px 2px rgba(60, 64, 67, 0.3), 0px 1px 3px 1px rgba(60, 64, 67, 0.15);\n",
              "      fill: #174EA6;\n",
              "    }\n",
              "\n",
              "    [theme=dark] .colab-df-convert {\n",
              "      background-color: #3B4455;\n",
              "      fill: #D2E3FC;\n",
              "    }\n",
              "\n",
              "    [theme=dark] .colab-df-convert:hover {\n",
              "      background-color: #434B5C;\n",
              "      box-shadow: 0px 1px 3px 1px rgba(0, 0, 0, 0.15);\n",
              "      filter: drop-shadow(0px 1px 2px rgba(0, 0, 0, 0.3));\n",
              "      fill: #FFFFFF;\n",
              "    }\n",
              "  </style>\n",
              "\n",
              "      <script>\n",
              "        const buttonEl =\n",
              "          document.querySelector('#df-c397852c-f2df-45d6-8b50-4aaf6ed3fdf3 button.colab-df-convert');\n",
              "        buttonEl.style.display =\n",
              "          google.colab.kernel.accessAllowed ? 'block' : 'none';\n",
              "\n",
              "        async function convertToInteractive(key) {\n",
              "          const element = document.querySelector('#df-c397852c-f2df-45d6-8b50-4aaf6ed3fdf3');\n",
              "          const dataTable =\n",
              "            await google.colab.kernel.invokeFunction('convertToInteractive',\n",
              "                                                     [key], {});\n",
              "          if (!dataTable) return;\n",
              "\n",
              "          const docLinkHtml = 'Like what you see? Visit the ' +\n",
              "            '<a target=\"_blank\" href=https://colab.research.google.com/notebooks/data_table.ipynb>data table notebook</a>'\n",
              "            + ' to learn more about interactive tables.';\n",
              "          element.innerHTML = '';\n",
              "          dataTable['output_type'] = 'display_data';\n",
              "          await google.colab.output.renderOutput(dataTable, element);\n",
              "          const docLink = document.createElement('div');\n",
              "          docLink.innerHTML = docLinkHtml;\n",
              "          element.appendChild(docLink);\n",
              "        }\n",
              "      </script>\n",
              "    </div>\n",
              "  </div>\n"
            ]
          },
          "metadata": {},
          "execution_count": 29
        }
      ]
    },
    {
      "cell_type": "code",
      "source": [
        "#Presentar la información general del dataset\n",
        "df_dataset.info()"
      ],
      "metadata": {
        "colab": {
          "base_uri": "https://localhost:8080/"
        },
        "id": "zRAcwxMPDazW",
        "outputId": "437e3308-89d4-43a5-d929-750adbbc596a"
      },
      "execution_count": null,
      "outputs": [
        {
          "output_type": "stream",
          "name": "stdout",
          "text": [
            "<class 'pandas.core.frame.DataFrame'>\n",
            "RangeIndex: 1000 entries, 0 to 999\n",
            "Data columns (total 4 columns):\n",
            " #   Column         Non-Null Count  Dtype  \n",
            "---  ------         --------------  -----  \n",
            " 0   valor          1000 non-null   float64\n",
            " 1   unidad         1000 non-null   object \n",
            " 2   vigenciadesde  1000 non-null   object \n",
            " 3   vigenciahasta  1000 non-null   object \n",
            "dtypes: float64(1), object(3)\n",
            "memory usage: 31.4+ KB\n"
          ]
        }
      ]
    },
    {
      "cell_type": "markdown",
      "source": [
        "##Representaciones graficas 📈"
      ],
      "metadata": {
        "id": "a6CeDaVjEChv"
      }
    },
    {
      "cell_type": "markdown",
      "source": [
        "#Gráfico de líneas\n",
        "podemos observar como cambia el valor a medida que avanzamos en el tiempo. Cada punto en el gráfico representaría un valor específico correspondiente a una fecha determinada."
      ],
      "metadata": {
        "id": "LoRNJTcKGfO1"
      }
    },
    {
      "cell_type": "code",
      "source": [
        "# Convertir las columnas \"vigenciadesde\" y \"valor\" a tipo fecha/hora y numérico\n",
        "df_dataset['vigenciadesde'] = pd.to_datetime(df_dataset['vigenciadesde'])\n",
        "df_dataset['valor'] = pd.to_numeric(df_dataset['valor'], errors='coerce')\n",
        "\n",
        "# Ordenar el DataFrame por la columna vigenciadesde\n",
        "df_dataset = df_dataset.sort_values('vigenciadesde')\n",
        "\n",
        "# Crear el gráfico de línea\n",
        "plt.plot(df_dataset['vigenciadesde'], df_dataset['valor'])\n",
        "plt.xlabel('Vigencia Desde')\n",
        "plt.ylabel('Valor')\n",
        "plt.title('Gráfico de líneas')\n",
        "\n",
        "# Rotar las etiquetas\n",
        "plt.xticks(rotation=45)\n",
        "plt.show()\n"
      ],
      "metadata": {
        "colab": {
          "base_uri": "https://localhost:8080/",
          "height": 493
        },
        "id": "ABeIX2mCEARE",
        "outputId": "c6d17f75-642b-440f-d75e-08b1a22714e8"
      },
      "execution_count": null,
      "outputs": [
        {
          "output_type": "display_data",
          "data": {
            "text/plain": [
              "<Figure size 640x480 with 1 Axes>"
            ],
            "image/png": "[encoded data removed]"
          },
          "metadata": {}
        }
      ]
    },
    {
      "cell_type": "markdown",
      "source": [
        "#Gráfico de histograma\n",
        "Podemos observar la distribución de los valores y que nos permiten comprender mejor cómo se agrupan.\n",
        "\n",
        "En el eje x del histograma se representan los intervalos o rangos de valores, mientras que en el eje y se muestra la frecuencia o conteo de valores que caen en cada intervalo."
      ],
      "metadata": {
        "id": "wYDRRJKYGyDK"
      }
    },
    {
      "cell_type": "code",
      "source": [
        "#Gráfico de histograma\n",
        "\n",
        "# Convertir la columna \"valor\" a tipo numérico\n",
        "df_dataset['valor'] = pd.to_numeric(df_dataset['valor'], errors='coerce')\n",
        "\n",
        "# Crear el gráfico de histograma\n",
        "plt.hist(df_dataset['valor'], bins=10, color='#CCCCCC')\n",
        "plt.xlabel('Valor')\n",
        "plt.ylabel('Frecuencia')\n",
        "plt.title('Histograma de valores')\n",
        "\n",
        "# Mostrar el gráfico\n",
        "plt.show()\n"
      ],
      "metadata": {
        "colab": {
          "base_uri": "https://localhost:8080/",
          "height": 472
        },
        "id": "JOr3QSyOFOHx",
        "outputId": "f46147a7-cf6e-4d46-c458-a57711f3db93"
      },
      "execution_count": null,
      "outputs": [
        {
          "output_type": "display_data",
          "data": {
            "text/plain": [
              "<Figure size 640x480 with 1 Axes>"
            ],
            "image/png": "[encoded data removed]"
          },
          "metadata": {}
        }
      ]
    },
    {
      "cell_type": "markdown",
      "source": [
        "##Dataset Datos Públicos Colombia ![image.png](data:image/png;base64,iVBORw0KGgoAAAANSUhEUgAAAEgAAABICAYAAABV7bNHAAAFGElEQVR4nO2bv24bRxDGv5kloybQAzAGrcaE5IoyJNqF/QCGVLnIK4QBrCJIkQSCKiFIUqgzkJQuAxeBCwt6ALuIlMBUJQlMCoqQ2AawAwS2uDMppKWO5N3xSB6PR5EfQOz94e7O/m5md+9uD5hppmFE46hUz1aLAAChByJyh4gLvv9TqTLzX2D9HQDo1h+HCZoJIEFAWi+VVbEG0ntEnBuoDJUGlN4SYZfyB7/EbaOfRgrIQSGm9bjLtlbBhFejhjUSQFovlRW6Nain9F2fSkNFfzULf34dd9mxAkoaTFf9Kg0CbcfpUbEA0rPVogp2xwWmU6rSIMZaHJ06D1uAra3s2CZVRChnrQ5b3NCyViFCOdukiq2t7Axb3sAepGerRbW0HdQBW6swhhJPu+wUfUVGtwb1poEA+YVUL0OTUCCkIUKu7xALgwOgBckdTzL1qxsAiDh38RGV1gS1D/V1qfVstWibVHEwvGDS4EFOfuEHACKK7CdY7seTIrfEeY4IpWKk6lcOVL+QIoWYF443lCYhddvOi5gJKtiNGm7RAFnadp4zrv5l0LRz2xgCEefU0naUtvcEZGsrO6JYH7cnxJVaq7BWQUzrUeZJoX1QZ6c8iQobNKxVmIyG9kehHqSC3XEO23GEV5j9xlz2R2EMAl1D66WyFfwclvmmyDC+DLrBDfQghW6NzqR0KaytvoC0XipP6nxnEIlQTuulst85f0BT5D1OQW3uAjRt3uMU5EXdgBRryZiULomob9u7ADWtrrsM05R62x4ISOulMjNBRMF8OQOYppSZ0Blm7YCuXMxlGvdVTTJ1v84waw8x0nvejGm4qomnVwxaSNyGnq0WLz6igpnanhcN/VbjpusakNCDMdqRLnlYtACJyJ3xWJM+eVm0AAUtQZlGeVnM+qAemgHqoYzbmP/qydTdoIYoBxwA8HqQ4u9xWZM6eVjMQqyHZoB66HqYV7s3TkPSJC+LmQf1UNtrn0+f/KhBf5wm/fvbty0unR70NmFb0qg2Bu2APMObiE3InpSpY7qT8e6Q2j2r+BwAmM1UQjJA22DV5kHvX24+ZzZtGdz+NKTMBu9fbj4PBAQAULzw7orYljfd9LSz7b6A3BzAZeyEdFP3vW1v49HlQQAWH39zXp+bn5qbV2aDW//90zjZ++mzrnN+Gc7n5jdHb1Z6JGID2xy4PmiavCj/4Z2v9wAdw7xX53Pzm/kP774fnVnpUVjEhC4+rOaX9jljSvGblB5J0x4U6sf3g86H36wyfRG7RWlTjzaGAirUjg4vbHMjXovSowvb3CjUjkJX3Eda31vNL+2DcLNCTREaWk6RF0Cf3F48Z0zuyjM2BmKvJobQxuLpie+o1ZUvcgXEawJtDGjf2OWFw8SRV9H1tYS+unC3yMwVV9kkyYogm81CRJZ79Tte9fXItVA7OhSR5Un0JGJq9AsHGOCZdKF2dDgJ4WZFWtsurPqFAwz5WXg1v7RvVVI9uhniSKNVkIZ6q1GoH98HUyrnSaIKMG0MAweI4bXP0unJM2PMsiE+8B433F50kvuG+CCbySwvnZ48i9KGMMX6Idjx7cWnBHynojlRBdN18UnsG8MNBX6IA4zTSL6U8wM1ynQUYJxG+inh8e3FpyLyCFdvSmIX4QUzvx4FmOsqEpKDZZgfWisD3bIYww0r8mbUULway8eo1YW7RQCwKg9F5JE7niWzAAAXamvuGDO/NsRvgMs5WNK2zjTTcPof2PneAzWSrS8AAAAASUVORK5CYII=)"
      ],
      "metadata": {
        "id": "cQhBnCl5M8Fr"
      }
    },
    {
      "cell_type": "markdown",
      "source": [
        "Dataset Agresiones por animales transmisores de rabia: https://www.datos.gov.co/Salud-y-Protecci-n-Social/AGRESIONES-POR-ANIMALES-TRANSMISORES-DE-RABIA/qpvx-dwrp"
      ],
      "metadata": {
        "id": "br5SpQweNlwd"
      }
    },
    {
      "cell_type": "code",
      "source": [
        "# Petición get\n",
        "resultado = client.get(\"qpvx-dwrp\")\n",
        "\n",
        "#Convertir en DataFrame\n",
        "animales_rabia= pd.DataFrame.from_records(resultado)\n",
        "animales_rabia"
      ],
      "metadata": {
        "id": "fhKzSv1pHHjZ",
        "colab": {
          "base_uri": "https://localhost:8080/",
          "height": 424
        },
        "outputId": "1da14428-d607-48bf-9925-54e751969449"
      },
      "execution_count": 85,
      "outputs": [
        {
          "output_type": "execute_result",
          "data": {
            "text/plain": [
              "    codigo_evento semana    a_o edad sexo                area  \\\n",
              "0             300     24   2.02    6    M               RURAL   \n",
              "1             300     30   2.02   13    M               RURAL   \n",
              "2             300     37   2.02   68    M               RURAL   \n",
              "3             300      1   2.01   32    M      RURAL DISPERSO   \n",
              "4             300      2   2.01    3    F      RURAL DISPERSO   \n",
              "..            ...    ...    ...  ...  ...                 ...   \n",
              "995           300     10  2.011   38    M      CENTRO POBLADO   \n",
              "996           300     10  2.011   10    M      RURAL DISPERSO   \n",
              "997           300     11  2.011   51    M  CABECERA MUNICIPAL   \n",
              "998           300     11  2.011   23    M  CABECERA MUNICIPAL   \n",
              "999           300     11  2.011   19    M  CABECERA MUNICIPAL   \n",
              "\n",
              "    tipo_seguridad_social                                  nombre_del_evento  \n",
              "0            CONTRIBUTIVO  AGRESIONES POR ANIMALES POTENCIALMENTE TRANSMI...  \n",
              "1              SUBSIDIADO  AGRESIONES POR ANIMALES POTENCIALMENTE TRANSMI...  \n",
              "2              SUBSIDIADO  AGRESIONES POR ANIMALES POTENCIALMENTE TRANSMI...  \n",
              "3              SUBSIDIADO  AGRESIONES POR ANIMALES POTENCIALMENTE TRANSMI...  \n",
              "4              SUBSIDIADO  AGRESIONES POR ANIMALES POTENCIALMENTE TRANSMI...  \n",
              "..                    ...                                                ...  \n",
              "995          CONTRIBUTIVO  AGRESIONES POR ANIMALES POTENCIALMENTE TRANSMI...  \n",
              "996          CONTRIBUTIVO  AGRESIONES POR ANIMALES POTENCIALMENTE TRANSMI...  \n",
              "997          NO ASEGURADO  AGRESIONES POR ANIMALES POTENCIALMENTE TRANSMI...  \n",
              "998          CONTRIBUTIVO  AGRESIONES POR ANIMALES POTENCIALMENTE TRANSMI...  \n",
              "999          CONTRIBUTIVO  AGRESIONES POR ANIMALES POTENCIALMENTE TRANSMI...  \n",
              "\n",
              "[1000 rows x 8 columns]"
            ],
            "text/html": [
              "\n",
              "\n",
              "  <div id=\"df-15c61993-474e-40a3-b91f-b2415ef3f3da\">\n",
              "    <div class=\"colab-df-container\">\n",
              "      <div>\n",
              "<style scoped>\n",
              "    .dataframe tbody tr th:only-of-type {\n",
              "        vertical-align: middle;\n",
              "    }\n",
              "\n",
              "    .dataframe tbody tr th {\n",
              "        vertical-align: top;\n",
              "    }\n",
              "\n",
              "    .dataframe thead th {\n",
              "        text-align: right;\n",
              "    }\n",
              "</style>\n",
              "<table border=\"1\" class=\"dataframe\">\n",
              "  <thead>\n",
              "    <tr style=\"text-align: right;\">\n",
              "      <th></th>\n",
              "      <th>codigo_evento</th>\n",
              "      <th>semana</th>\n",
              "      <th>a_o</th>\n",
              "      <th>edad</th>\n",
              "      <th>sexo</th>\n",
              "      <th>area</th>\n",
              "      <th>tipo_seguridad_social</th>\n",
              "      <th>nombre_del_evento</th>\n",
              "    </tr>\n",
              "  </thead>\n",
              "  <tbody>\n",
              "    <tr>\n",
              "      <th>0</th>\n",
              "      <td>300</td>\n",
              "      <td>24</td>\n",
              "      <td>2.02</td>\n",
              "      <td>6</td>\n",
              "      <td>M</td>\n",
              "      <td>RURAL</td>\n",
              "      <td>CONTRIBUTIVO</td>\n",
              "      <td>AGRESIONES POR ANIMALES POTENCIALMENTE TRANSMI...</td>\n",
              "    </tr>\n",
              "    <tr>\n",
              "      <th>1</th>\n",
              "      <td>300</td>\n",
              "      <td>30</td>\n",
              "      <td>2.02</td>\n",
              "      <td>13</td>\n",
              "      <td>M</td>\n",
              "      <td>RURAL</td>\n",
              "      <td>SUBSIDIADO</td>\n",
              "      <td>AGRESIONES POR ANIMALES POTENCIALMENTE TRANSMI...</td>\n",
              "    </tr>\n",
              "    <tr>\n",
              "      <th>2</th>\n",
              "      <td>300</td>\n",
              "      <td>37</td>\n",
              "      <td>2.02</td>\n",
              "      <td>68</td>\n",
              "      <td>M</td>\n",
              "      <td>RURAL</td>\n",
              "      <td>SUBSIDIADO</td>\n",
              "      <td>AGRESIONES POR ANIMALES POTENCIALMENTE TRANSMI...</td>\n",
              "    </tr>\n",
              "    <tr>\n",
              "      <th>3</th>\n",
              "      <td>300</td>\n",
              "      <td>1</td>\n",
              "      <td>2.01</td>\n",
              "      <td>32</td>\n",
              "      <td>M</td>\n",
              "      <td>RURAL DISPERSO</td>\n",
              "      <td>SUBSIDIADO</td>\n",
              "      <td>AGRESIONES POR ANIMALES POTENCIALMENTE TRANSMI...</td>\n",
              "    </tr>\n",
              "    <tr>\n",
              "      <th>4</th>\n",
              "      <td>300</td>\n",
              "      <td>2</td>\n",
              "      <td>2.01</td>\n",
              "      <td>3</td>\n",
              "      <td>F</td>\n",
              "      <td>RURAL DISPERSO</td>\n",
              "      <td>SUBSIDIADO</td>\n",
              "      <td>AGRESIONES POR ANIMALES POTENCIALMENTE TRANSMI...</td>\n",
              "    </tr>\n",
              "    <tr>\n",
              "      <th>...</th>\n",
              "      <td>...</td>\n",
              "      <td>...</td>\n",
              "      <td>...</td>\n",
              "      <td>...</td>\n",
              "      <td>...</td>\n",
              "      <td>...</td>\n",
              "      <td>...</td>\n",
              "      <td>...</td>\n",
              "    </tr>\n",
              "    <tr>\n",
              "      <th>995</th>\n",
              "      <td>300</td>\n",
              "      <td>10</td>\n",
              "      <td>2.011</td>\n",
              "      <td>38</td>\n",
              "      <td>M</td>\n",
              "      <td>CENTRO POBLADO</td>\n",
              "      <td>CONTRIBUTIVO</td>\n",
              "      <td>AGRESIONES POR ANIMALES POTENCIALMENTE TRANSMI...</td>\n",
              "    </tr>\n",
              "    <tr>\n",
              "      <th>996</th>\n",
              "      <td>300</td>\n",
              "      <td>10</td>\n",
              "      <td>2.011</td>\n",
              "      <td>10</td>\n",
              "      <td>M</td>\n",
              "      <td>RURAL DISPERSO</td>\n",
              "      <td>CONTRIBUTIVO</td>\n",
              "      <td>AGRESIONES POR ANIMALES POTENCIALMENTE TRANSMI...</td>\n",
              "    </tr>\n",
              "    <tr>\n",
              "      <th>997</th>\n",
              "      <td>300</td>\n",
              "      <td>11</td>\n",
              "      <td>2.011</td>\n",
              "      <td>51</td>\n",
              "      <td>M</td>\n",
              "      <td>CABECERA MUNICIPAL</td>\n",
              "      <td>NO ASEGURADO</td>\n",
              "      <td>AGRESIONES POR ANIMALES POTENCIALMENTE TRANSMI...</td>\n",
              "    </tr>\n",
              "    <tr>\n",
              "      <th>998</th>\n",
              "      <td>300</td>\n",
              "      <td>11</td>\n",
              "      <td>2.011</td>\n",
              "      <td>23</td>\n",
              "      <td>M</td>\n",
              "      <td>CABECERA MUNICIPAL</td>\n",
              "      <td>CONTRIBUTIVO</td>\n",
              "      <td>AGRESIONES POR ANIMALES POTENCIALMENTE TRANSMI...</td>\n",
              "    </tr>\n",
              "    <tr>\n",
              "      <th>999</th>\n",
              "      <td>300</td>\n",
              "      <td>11</td>\n",
              "      <td>2.011</td>\n",
              "      <td>19</td>\n",
              "      <td>M</td>\n",
              "      <td>CABECERA MUNICIPAL</td>\n",
              "      <td>CONTRIBUTIVO</td>\n",
              "      <td>AGRESIONES POR ANIMALES POTENCIALMENTE TRANSMI...</td>\n",
              "    </tr>\n",
              "  </tbody>\n",
              "</table>\n",
              "<p>1000 rows × 8 columns</p>\n",
              "</div>\n",
              "      <button class=\"colab-df-convert\" onclick=\"convertToInteractive('df-15c61993-474e-40a3-b91f-b2415ef3f3da')\"\n",
              "              title=\"Convert this dataframe to an interactive table.\"\n",
              "              style=\"display:none;\">\n",
              "\n",
              "  <svg xmlns=\"http://www.w3.org/2000/svg\" height=\"24px\"viewBox=\"0 0 24 24\"\n",
              "       width=\"24px\">\n",
              "    <path d=\"M0 0h24v24H0V0z\" fill=\"none\"/>\n",
              "    <path d=\"M18.56 5.44l.94 2.06.94-2.06 2.06-.94-2.06-.94-.94-2.06-.94 2.06-2.06.94zm-11 1L8.5 8.5l.94-2.06 2.06-.94-2.06-.94L8.5 2.5l-.94 2.06-2.06.94zm10 10l.94 2.06.94-2.06 2.06-.94-2.06-.94-.94-2.06-.94 2.06-2.06.94z\"/><path d=\"M17.41 7.96l-1.37-1.37c-.4-.4-.92-.59-1.43-.59-.52 0-1.04.2-1.43.59L10.3 9.45l-7.72 7.72c-.78.78-.78 2.05 0 2.83L4 21.41c.39.39.9.59 1.41.59.51 0 1.02-.2 1.41-.59l7.78-7.78 2.81-2.81c.8-.78.8-2.07 0-2.86zM5.41 20L4 18.59l7.72-7.72 1.47 1.35L5.41 20z\"/>\n",
              "  </svg>\n",
              "      </button>\n",
              "\n",
              "\n",
              "\n",
              "    <div id=\"df-3fa8f3d9-e856-4660-a59b-89ead5b63606\">\n",
              "      <button class=\"colab-df-quickchart\" onclick=\"quickchart('df-3fa8f3d9-e856-4660-a59b-89ead5b63606')\"\n",
              "              title=\"Suggest charts.\"\n",
              "              style=\"display:none;\">\n",
              "\n",
              "<svg xmlns=\"http://www.w3.org/2000/svg\" height=\"24px\"viewBox=\"0 0 24 24\"\n",
              "     width=\"24px\">\n",
              "    <g>\n",
              "        <path d=\"M19 3H5c-1.1 0-2 .9-2 2v14c0 1.1.9 2 2 2h14c1.1 0 2-.9 2-2V5c0-1.1-.9-2-2-2zM9 17H7v-7h2v7zm4 0h-2V7h2v10zm4 0h-2v-4h2v4z\"/>\n",
              "    </g>\n",
              "</svg>\n",
              "      </button>\n",
              "    </div>\n",
              "\n",
              "<style>\n",
              "  .colab-df-quickchart {\n",
              "    background-color: #E8F0FE;\n",
              "    border: none;\n",
              "    border-radius: 50%;\n",
              "    cursor: pointer;\n",
              "    display: none;\n",
              "    fill: #1967D2;\n",
              "    height: 32px;\n",
              "    padding: 0 0 0 0;\n",
              "    width: 32px;\n",
              "  }\n",
              "\n",
              "  .colab-df-quickchart:hover {\n",
              "    background-color: #E2EBFA;\n",
              "    box-shadow: 0px 1px 2px rgba(60, 64, 67, 0.3), 0px 1px 3px 1px rgba(60, 64, 67, 0.15);\n",
              "    fill: #174EA6;\n",
              "  }\n",
              "\n",
              "  [theme=dark] .colab-df-quickchart {\n",
              "    background-color: #3B4455;\n",
              "    fill: #D2E3FC;\n",
              "  }\n",
              "\n",
              "  [theme=dark] .colab-df-quickchart:hover {\n",
              "    background-color: #434B5C;\n",
              "    box-shadow: 0px 1px 3px 1px rgba(0, 0, 0, 0.15);\n",
              "    filter: drop-shadow(0px 1px 2px rgba(0, 0, 0, 0.3));\n",
              "    fill: #FFFFFF;\n",
              "  }\n",
              "</style>\n",
              "\n",
              "    <script>\n",
              "      async function quickchart(key) {\n",
              "        const containerElement = document.querySelector('#' + key);\n",
              "        const charts = await google.colab.kernel.invokeFunction(\n",
              "            'suggestCharts', [key], {});\n",
              "      }\n",
              "    </script>\n",
              "\n",
              "      <script>\n",
              "\n",
              "function displayQuickchartButton(domScope) {\n",
              "  let quickchartButtonEl =\n",
              "    domScope.querySelector('#df-3fa8f3d9-e856-4660-a59b-89ead5b63606 button.colab-df-quickchart');\n",
              "  quickchartButtonEl.style.display =\n",
              "    google.colab.kernel.accessAllowed ? 'block' : 'none';\n",
              "}\n",
              "\n",
              "        displayQuickchartButton(document);\n",
              "      </script>\n",
              "      <style>\n",
              "    .colab-df-container {\n",
              "      display:flex;\n",
              "      flex-wrap:wrap;\n",
              "      gap: 12px;\n",
              "    }\n",
              "\n",
              "    .colab-df-convert {\n",
              "      background-color: #E8F0FE;\n",
              "      border: none;\n",
              "      border-radius: 50%;\n",
              "      cursor: pointer;\n",
              "      display: none;\n",
              "      fill: #1967D2;\n",
              "      height: 32px;\n",
              "      padding: 0 0 0 0;\n",
              "      width: 32px;\n",
              "    }\n",
              "\n",
              "    .colab-df-convert:hover {\n",
              "      background-color: #E2EBFA;\n",
              "      box-shadow: 0px 1px 2px rgba(60, 64, 67, 0.3), 0px 1px 3px 1px rgba(60, 64, 67, 0.15);\n",
              "      fill: #174EA6;\n",
              "    }\n",
              "\n",
              "    [theme=dark] .colab-df-convert {\n",
              "      background-color: #3B4455;\n",
              "      fill: #D2E3FC;\n",
              "    }\n",
              "\n",
              "    [theme=dark] .colab-df-convert:hover {\n",
              "      background-color: #434B5C;\n",
              "      box-shadow: 0px 1px 3px 1px rgba(0, 0, 0, 0.15);\n",
              "      filter: drop-shadow(0px 1px 2px rgba(0, 0, 0, 0.3));\n",
              "      fill: #FFFFFF;\n",
              "    }\n",
              "  </style>\n",
              "\n",
              "      <script>\n",
              "        const buttonEl =\n",
              "          document.querySelector('#df-15c61993-474e-40a3-b91f-b2415ef3f3da button.colab-df-convert');\n",
              "        buttonEl.style.display =\n",
              "          google.colab.kernel.accessAllowed ? 'block' : 'none';\n",
              "\n",
              "        async function convertToInteractive(key) {\n",
              "          const element = document.querySelector('#df-15c61993-474e-40a3-b91f-b2415ef3f3da');\n",
              "          const dataTable =\n",
              "            await google.colab.kernel.invokeFunction('convertToInteractive',\n",
              "                                                     [key], {});\n",
              "          if (!dataTable) return;\n",
              "\n",
              "          const docLinkHtml = 'Like what you see? Visit the ' +\n",
              "            '<a target=\"_blank\" href=https://colab.research.google.com/notebooks/data_table.ipynb>data table notebook</a>'\n",
              "            + ' to learn more about interactive tables.';\n",
              "          element.innerHTML = '';\n",
              "          dataTable['output_type'] = 'display_data';\n",
              "          await google.colab.output.renderOutput(dataTable, element);\n",
              "          const docLink = document.createElement('div');\n",
              "          docLink.innerHTML = docLinkHtml;\n",
              "          element.appendChild(docLink);\n",
              "        }\n",
              "      </script>\n",
              "    </div>\n",
              "  </div>\n"
            ]
          },
          "metadata": {},
          "execution_count": 85
        }
      ]
    },
    {
      "cell_type": "markdown",
      "source": [
        "###*limpieza y transformación necesarias*\n"
      ],
      "metadata": {
        "id": "310yRASAOVJo"
      }
    },
    {
      "cell_type": "code",
      "source": [
        "animales_rabia = animales_rabia.rename(columns={'a_o': 'year'})\n",
        "animales_rabia = animales_rabia.fillna(0)\n",
        "animales_rabia['year'] = pd.to_numeric(animales_rabia['year'])\n",
        "animales_rabia['edad'] = pd.to_numeric(animales_rabia['edad'])\n",
        "animales_rabia['semana'] = pd.to_numeric(animales_rabia['semana'])"
      ],
      "metadata": {
        "id": "ZnKjJHakOQsL"
      },
      "execution_count": 101,
      "outputs": []
    },
    {
      "cell_type": "markdown",
      "source": [
        "###*Presentación del dataset*\n"
      ],
      "metadata": {
        "id": "OpiSfXZaSx08"
      }
    },
    {
      "cell_type": "markdown",
      "source": [
        "**CODIGO EVENTO**\n",
        "Código en que se identifica el evento en salud publica\n",
        "\n",
        "**SEMANA**\n",
        "Numero de la semana epidemiológica\n",
        "\n",
        "**AÑO**\n",
        "Año del evento en salud publica\n",
        "\n",
        "**EDAD**\n",
        "Edad del paciente\n",
        "\n",
        "**SEXO**\n",
        "Sexo, Masculino o femenino\n",
        "\n",
        "**AREA**\n",
        "Área donde vive la persona\n",
        "\n",
        "**TIPO SEGURIDAD SOCIAL**\n",
        "Régimen de salud al que pertenece el usuario"
      ],
      "metadata": {
        "id": "RNwuB2jfXXb1"
      }
    },
    {
      "cell_type": "code",
      "source": [
        "animales_rabia.info()"
      ],
      "metadata": {
        "colab": {
          "base_uri": "https://localhost:8080/"
        },
        "id": "fg7EIrJVVjOj",
        "outputId": "48c73c24-0fe8-4476-94cf-496f3becb9e7"
      },
      "execution_count": 102,
      "outputs": [
        {
          "output_type": "stream",
          "name": "stdout",
          "text": [
            "<class 'pandas.core.frame.DataFrame'>\n",
            "RangeIndex: 1000 entries, 0 to 999\n",
            "Data columns (total 8 columns):\n",
            " #   Column                 Non-Null Count  Dtype  \n",
            "---  ------                 --------------  -----  \n",
            " 0   codigo_evento          1000 non-null   object \n",
            " 1   semana                 1000 non-null   int64  \n",
            " 2   year                   1000 non-null   float64\n",
            " 3   edad                   1000 non-null   int64  \n",
            " 4   sexo                   1000 non-null   object \n",
            " 5   area                   1000 non-null   object \n",
            " 6   tipo_seguridad_social  1000 non-null   object \n",
            " 7   nombre_del_evento      1000 non-null   object \n",
            "dtypes: float64(1), int64(2), object(5)\n",
            "memory usage: 62.6+ KB\n"
          ]
        }
      ]
    },
    {
      "cell_type": "code",
      "source": [
        "print(animales_rabia.columns)"
      ],
      "metadata": {
        "colab": {
          "base_uri": "https://localhost:8080/"
        },
        "id": "7b3VmJkqVV_R",
        "outputId": "6e7658eb-355e-4fa7-97a8-e3355d763b7b"
      },
      "execution_count": 94,
      "outputs": [
        {
          "output_type": "stream",
          "name": "stdout",
          "text": [
            "Index(['codigo_evento', 'semana', 'year', 'edad', 'sexo', 'area',\n",
            "       'tipo_seguridad_social', 'nombre_del_evento'],\n",
            "      dtype='object')\n"
          ]
        }
      ]
    },
    {
      "cell_type": "code",
      "source": [
        "# Cantidad de eventos por código\n",
        "eventos_por_codigo = animales_rabia['codigo_evento'].value_counts()\n",
        "\n",
        "# Estadísticas de la semana\n",
        "estadisticas_semana = animales_rabia['semana'].describe()\n",
        "\n",
        "# Estadísticas de edad\n",
        "estadisticas_edad = animales_rabia['edad'].describe()\n",
        "\n",
        "# Distribución de género\n",
        "distribucion_genero = animales_rabia['sexo'].value_counts()\n",
        "\n",
        "# Distribución de áreas\n",
        "distribucion_areas = animales_rabia['area'].value_counts()\n",
        "\n",
        "# Imprimir\n",
        "print(\"Cantidad de eventos por código:\")\n",
        "print(eventos_por_codigo)\n",
        "\n",
        "print(\"\\nEstadísticas de la semana:\")\n",
        "print(estadisticas_semana)\n",
        "\n",
        "print(\"\\nEstadísticas de edad:\")\n",
        "print(estadisticas_edad)\n",
        "\n",
        "print(\"\\nDistribución de género:\")\n",
        "print(distribucion_genero)\n",
        "\n",
        "print(\"\\nDistribución de áreas:\")\n",
        "print(distribucion_areas)\n"
      ],
      "metadata": {
        "colab": {
          "base_uri": "https://localhost:8080/"
        },
        "id": "6ZfLU3b9WR-L",
        "outputId": "6a45a305-4bee-4efb-e917-bbbfe0686b79"
      },
      "execution_count": 105,
      "outputs": [
        {
          "output_type": "stream",
          "name": "stdout",
          "text": [
            "Cantidad de eventos por código:\n",
            "300    1000\n",
            "Name: codigo_evento, dtype: int64\n",
            "\n",
            "Estadísticas de la semana:\n",
            "count    1000.00000\n",
            "mean       25.02700\n",
            "std        16.02364\n",
            "min         1.00000\n",
            "25%         9.00000\n",
            "50%        24.00000\n",
            "75%        40.00000\n",
            "max        52.00000\n",
            "Name: semana, dtype: float64\n",
            "\n",
            "Estadísticas de edad:\n",
            "count    1000.000000\n",
            "mean       28.446000\n",
            "std        22.019399\n",
            "min         1.000000\n",
            "25%        10.000000\n",
            "50%        22.000000\n",
            "75%        44.000000\n",
            "max        87.000000\n",
            "Name: edad, dtype: float64\n",
            "\n",
            "Distribución de género:\n",
            "M    574\n",
            "F    426\n",
            "Name: sexo, dtype: int64\n",
            "\n",
            "Distribución de áreas:\n",
            "CABECERA MUNICIPAL    633\n",
            "CENTRO POBLADO        278\n",
            "RURAL DISPERSO         86\n",
            "RURAL                   3\n",
            "Name: area, dtype: int64\n"
          ]
        }
      ]
    },
    {
      "cell_type": "markdown",
      "source": [
        "# Gráfico de barras de la cantidad de eventos por código\n",
        "*Este gráfico muestra la cantidad de eventos registrados para cada código, permite visualizar cuántos eventos se han registrado*\n",
        "\n",
        "\n"
      ],
      "metadata": {
        "id": "albmPZhWYAbn"
      }
    },
    {
      "cell_type": "code",
      "source": [
        "plt.figure(figsize=(10, 6))\n",
        "eventos_por_codigo.plot(kind='bar')\n",
        "plt.title('Cantidad de eventos por código')\n",
        "plt.xlabel('Código de evento')\n",
        "plt.ylabel('Cantidad')\n",
        "plt.xticks(rotation=45)\n",
        "plt.show()"
      ],
      "metadata": {
        "colab": {
          "base_uri": "https://localhost:8080/",
          "height": 580
        },
        "id": "5n4_-ZtiWpRo",
        "outputId": "b8d2a8a6-a9f0-4a85-9973-9013390ffd40"
      },
      "execution_count": 106,
      "outputs": [
        {
          "output_type": "display_data",
          "data": {
            "text/plain": [
              "<Figure size 1000x600 with 1 Axes>"
            ],
            "image/png": "[encoded data removed]"
          },
          "metadata": {}
        }
      ]
    },
    {
      "cell_type": "markdown",
      "source": [
        "# Histograma de la edad de los pacientes\n",
        "*Este histograma muestra la distribución de la edad de los pacientes afectados por los eventos. En el eje x se representa la edad y en el eje y se muestra la frecuencia de aparición de cada rango de edad*"
      ],
      "metadata": {
        "id": "QG9OZlHDYbV6"
      }
    },
    {
      "cell_type": "code",
      "source": [
        "plt.figure(figsize=(8, 6))\n",
        "sns.histplot(animales_rabia['edad'], bins=10)\n",
        "plt.title('Distribución de edad')\n",
        "plt.xlabel('Edad')\n",
        "plt.ylabel('Frecuencia')\n",
        "plt.show()"
      ],
      "metadata": {
        "colab": {
          "base_uri": "https://localhost:8080/",
          "height": 564
        },
        "id": "uCbODQDfW1rd",
        "outputId": "e742591f-f1e1-41a8-9a16-0f0dcb1066dd"
      },
      "execution_count": 114,
      "outputs": [
        {
          "output_type": "display_data",
          "data": {
            "text/plain": [
              "<Figure size 800x600 with 1 Axes>"
            ],
            "image/png": "[encoded data removed]"
          },
          "metadata": {}
        }
      ]
    },
    {
      "cell_type": "markdown",
      "source": [
        "#Gráfico de pastel de la distribución de género\n",
        "*Cada porción del pastel representa el porcentaje de pacientes de cada género en relación con el totals*"
      ],
      "metadata": {
        "id": "GiF8F4NpYwuA"
      }
    },
    {
      "cell_type": "code",
      "source": [
        "plt.figure(figsize=(6, 6))\n",
        "distribucion_genero.plot(kind='pie', autopct='%1.1f%%')\n",
        "plt.title('Distribución de género')\n",
        "plt.ylabel('')\n",
        "plt.show()"
      ],
      "metadata": {
        "colab": {
          "base_uri": "https://localhost:8080/",
          "height": 521
        },
        "id": "jvuuiVJuW4la",
        "outputId": "cc6d0595-4939-437d-bf2a-e59ee6e8088d"
      },
      "execution_count": 110,
      "outputs": [
        {
          "output_type": "display_data",
          "data": {
            "text/plain": [
              "<Figure size 600x600 with 1 Axes>"
            ],
            "image/png": "[encoded data removed]"
          },
          "metadata": {}
        }
      ]
    },
    {
      "cell_type": "markdown",
      "source": [
        "# Gráfico de barras de la distribución de áreas\n",
        "*Este gráfico de barras muestra la cantidad de eventos registrados en cada área*"
      ],
      "metadata": {
        "id": "JICR3nidZBiY"
      }
    },
    {
      "cell_type": "code",
      "source": [
        "plt.figure(figsize=(10, 6))\n",
        "sns.countplot(x='area', data=animales_rabia)\n",
        "plt.title('Distribución de áreas')\n",
        "plt.xlabel('Área')\n",
        "plt.ylabel('Cantidad')\n",
        "plt.xticks(rotation=45)\n",
        "plt.show()"
      ],
      "metadata": {
        "colab": {
          "base_uri": "https://localhost:8080/",
          "height": 669
        },
        "id": "377rLvpIW7F3",
        "outputId": "b3d560ec-7c9d-4737-cb16-50d819927254"
      },
      "execution_count": 113,
      "outputs": [
        {
          "output_type": "display_data",
          "data": {
            "text/plain": [
              "<Figure size 1000x600 with 1 Axes>"
            ],
            "image/png": "[encoded data removed]"
          },
          "metadata": {}
        }
      ]
    },
    {
      "cell_type": "code",
      "source": [
        "# Tabla pivote - cantidad de eventos por género y área\n",
        "tabla_pivote = pd.pivot_table(animales_rabia, index='sexo', columns='area', values='codigo_evento', aggfunc='count')\n",
        "\n",
        "tabla_pivote_styled = tabla_pivote.style \\\n",
        "    .set_caption('Cantidad de Eventos por Género y Área') \\\n",
        "    .set_table_styles([\n",
        "        {'selector': 'caption', 'props': [('font-size', '18px'), ('font-weight', 'bold')]},\n",
        "        {'selector': 'th', 'props': [('background-color', '#f2f2f2'), ('text-align', 'center')]},\n",
        "        {'selector': 'td', 'props': [('text-align', 'center')]}\n",
        "    ])\n",
        "\n",
        "# Mostrar la tabla pivote\n",
        "display(tabla_pivote_styled)\n"
      ],
      "metadata": {
        "colab": {
          "base_uri": "https://localhost:8080/",
          "height": 166
        },
        "id": "pv2ohE2KZqr8",
        "outputId": "43b0870b-d91a-49c8-a179-eb00f5605f8a"
      },
      "execution_count": 119,
      "outputs": [
        {
          "output_type": "display_data",
          "data": {
            "text/plain": [
              "<pandas.io.formats.style.Styler at 0x79647c6c0e80>"
            ],
            "text/html": [
              "<style type=\"text/css\">\n",
              "#T_3661e caption {\n",
              "  font-size: 18px;\n",
              "  font-weight: bold;\n",
              "}\n",
              "#T_3661e th {\n",
              "  background-color: #f2f2f2;\n",
              "  text-align: center;\n",
              "}\n",
              "#T_3661e td {\n",
              "  text-align: center;\n",
              "}\n",
              "</style>\n",
              "<table id=\"T_3661e\" class=\"dataframe\">\n",
              "  <caption>Cantidad de Eventos por Género y Área</caption>\n",
              "  <thead>\n",
              "    <tr>\n",
              "      <th class=\"index_name level0\" >area</th>\n",
              "      <th id=\"T_3661e_level0_col0\" class=\"col_heading level0 col0\" >CABECERA MUNICIPAL</th>\n",
              "      <th id=\"T_3661e_level0_col1\" class=\"col_heading level0 col1\" >CENTRO POBLADO</th>\n",
              "      <th id=\"T_3661e_level0_col2\" class=\"col_heading level0 col2\" >RURAL</th>\n",
              "      <th id=\"T_3661e_level0_col3\" class=\"col_heading level0 col3\" >RURAL DISPERSO</th>\n",
              "    </tr>\n",
              "    <tr>\n",
              "      <th class=\"index_name level0\" >sexo</th>\n",
              "      <th class=\"blank col0\" >&nbsp;</th>\n",
              "      <th class=\"blank col1\" >&nbsp;</th>\n",
              "      <th class=\"blank col2\" >&nbsp;</th>\n",
              "      <th class=\"blank col3\" >&nbsp;</th>\n",
              "    </tr>\n",
              "  </thead>\n",
              "  <tbody>\n",
              "    <tr>\n",
              "      <th id=\"T_3661e_level0_row0\" class=\"row_heading level0 row0\" >F</th>\n",
              "      <td id=\"T_3661e_row0_col0\" class=\"data row0 col0\" >278.000000</td>\n",
              "      <td id=\"T_3661e_row0_col1\" class=\"data row0 col1\" >123.000000</td>\n",
              "      <td id=\"T_3661e_row0_col2\" class=\"data row0 col2\" >nan</td>\n",
              "      <td id=\"T_3661e_row0_col3\" class=\"data row0 col3\" >25.000000</td>\n",
              "    </tr>\n",
              "    <tr>\n",
              "      <th id=\"T_3661e_level0_row1\" class=\"row_heading level0 row1\" >M</th>\n",
              "      <td id=\"T_3661e_row1_col0\" class=\"data row1 col0\" >355.000000</td>\n",
              "      <td id=\"T_3661e_row1_col1\" class=\"data row1 col1\" >155.000000</td>\n",
              "      <td id=\"T_3661e_row1_col2\" class=\"data row1 col2\" >3.000000</td>\n",
              "      <td id=\"T_3661e_row1_col3\" class=\"data row1 col3\" >61.000000</td>\n",
              "    </tr>\n",
              "  </tbody>\n",
              "</table>\n"
            ]
          },
          "metadata": {}
        }
      ]
    },
    {
      "cell_type": "code",
      "source": [
        "# Agrupación por área y cálculo de la edad promedio\n",
        "agrupacion_edad_area = animales_rabia.groupby('area')['edad'].mean().reset_index()\n",
        "\n",
        "\n",
        "agrupacion_edad_area_styled = agrupacion_edad_area.style \\\n",
        "    .set_caption('Edad Promedio por Área') \\\n",
        "    .set_table_styles([\n",
        "        {'selector': 'caption', 'props': [('font-size', '18px'), ('font-weight', 'bold')]},\n",
        "        {'selector': 'th', 'props': [('background-color', '#f2f2f2'), ('text-align', 'center')]},\n",
        "        {'selector': 'td', 'props': [('text-align', 'center')]}\n",
        "    ])\n",
        "\n",
        "# Mostrar la agrupación\n",
        "display(agrupacion_edad_area_styled)\n"
      ],
      "metadata": {
        "colab": {
          "base_uri": "https://localhost:8080/",
          "height": 197
        },
        "id": "ZZ5OEZc6Zy7O",
        "outputId": "477594f9-c4d5-4aec-b739-f65be4669334"
      },
      "execution_count": 120,
      "outputs": [
        {
          "output_type": "display_data",
          "data": {
            "text/plain": [
              "<pandas.io.formats.style.Styler at 0x79647c6c1030>"
            ],
            "text/html": [
              "<style type=\"text/css\">\n",
              "#T_1907f caption {\n",
              "  font-size: 18px;\n",
              "  font-weight: bold;\n",
              "}\n",
              "#T_1907f th {\n",
              "  background-color: #f2f2f2;\n",
              "  text-align: center;\n",
              "}\n",
              "#T_1907f td {\n",
              "  text-align: center;\n",
              "}\n",
              "</style>\n",
              "<table id=\"T_1907f\" class=\"dataframe\">\n",
              "  <caption>Edad Promedio por Área</caption>\n",
              "  <thead>\n",
              "    <tr>\n",
              "      <th class=\"blank level0\" >&nbsp;</th>\n",
              "      <th id=\"T_1907f_level0_col0\" class=\"col_heading level0 col0\" >area</th>\n",
              "      <th id=\"T_1907f_level0_col1\" class=\"col_heading level0 col1\" >edad</th>\n",
              "    </tr>\n",
              "  </thead>\n",
              "  <tbody>\n",
              "    <tr>\n",
              "      <th id=\"T_1907f_level0_row0\" class=\"row_heading level0 row0\" >0</th>\n",
              "      <td id=\"T_1907f_row0_col0\" class=\"data row0 col0\" >CABECERA MUNICIPAL</td>\n",
              "      <td id=\"T_1907f_row0_col1\" class=\"data row0 col1\" >29.507109</td>\n",
              "    </tr>\n",
              "    <tr>\n",
              "      <th id=\"T_1907f_level0_row1\" class=\"row_heading level0 row1\" >1</th>\n",
              "      <td id=\"T_1907f_row1_col0\" class=\"data row1 col0\" >CENTRO POBLADO</td>\n",
              "      <td id=\"T_1907f_row1_col1\" class=\"data row1 col1\" >25.122302</td>\n",
              "    </tr>\n",
              "    <tr>\n",
              "      <th id=\"T_1907f_level0_row2\" class=\"row_heading level0 row2\" >2</th>\n",
              "      <td id=\"T_1907f_row2_col0\" class=\"data row2 col0\" >RURAL</td>\n",
              "      <td id=\"T_1907f_row2_col1\" class=\"data row2 col1\" >29.000000</td>\n",
              "    </tr>\n",
              "    <tr>\n",
              "      <th id=\"T_1907f_level0_row3\" class=\"row_heading level0 row3\" >3</th>\n",
              "      <td id=\"T_1907f_row3_col0\" class=\"data row3 col0\" >RURAL DISPERSO</td>\n",
              "      <td id=\"T_1907f_row3_col1\" class=\"data row3 col1\" >31.360465</td>\n",
              "    </tr>\n",
              "  </tbody>\n",
              "</table>\n"
            ]
          },
          "metadata": {}
        }
      ]
    },
    {
      "cell_type": "markdown",
      "source": [
        "#**Gracias! link de Git"
      ],
      "metadata": {
        "id": "ef_8i5S1aBG0"
      }
    },
    {
      "cell_type": "code",
      "source": [],
      "metadata": {
        "id": "6jaVsVkRaFKO"
      },
      "execution_count": null,
      "outputs": []
    }
  ]
}